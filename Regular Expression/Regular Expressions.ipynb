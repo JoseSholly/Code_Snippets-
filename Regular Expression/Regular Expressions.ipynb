{
 "cells": [
  {
   "cell_type": "markdown",
   "metadata": {},
   "source": [
    "# Regular Expression"
   ]
  },
  {
   "cell_type": "code",
   "execution_count": 1,
   "metadata": {},
   "outputs": [],
   "source": [
    "import re"
   ]
  },
  {
   "cell_type": "markdown",
   "metadata": {},
   "source": [
    "This example replaces any occurrence of an L, R, U, or D followed by one or more digits with\n",
    "'***'.\n"
   ]
  },
  {
   "cell_type": "code",
   "execution_count": 2,
   "metadata": {},
   "outputs": [
    {
     "name": "stdout",
     "output_type": "stream",
     "text": [
      "Locations *** and *** full.\n"
     ]
    }
   ],
   "source": [
    "print(re.sub(r'([LRUD])(\\d+)', '***', 'Locations L3 and D22 full.'))"
   ]
  },
  {
   "cell_type": "markdown",
   "metadata": {},
   "source": [
    "sub The sub function works as follows: \n",
    "<br>\n",
    "\n",
    "\n",
    "$ sub(pattern, replacement, string) $\n",
    "\n",
    "This searches through string for pattern and replaces anything matching that pattern with the\n",
    "string replacement. All of the upcoming examples will be shown with sub, but there are other\n",
    "things we can do with regular expressions besides substituting. We will get to those after discussing\n",
    "the syntax of regular expressions."
   ]
  },
  {
   "cell_type": "markdown",
   "metadata": {},
   "source": [
    "### Raw strings \n",
    " A lot of the patterns use backslashes. However, backslashes in strings are used for\n",
    "escape characters, like the newline, \\n. To get a backslash in a string, we need to do \\\\. This\n",
    "can quickly clutter up a regular expression. To avoid this, our patterns will be raw strings, where\n",
    "backslashes can appear as is and don’t do anything special. To mark a string as a raw string, preface\n",
    "it with an r like below:"
   ]
  },
  {
   "cell_type": "code",
   "execution_count": 3,
   "metadata": {},
   "outputs": [],
   "source": [
    "s = r'This is a raw string. Backslashes do not do anything special.'"
   ]
  },
  {
   "cell_type": "markdown",
   "metadata": {},
   "source": [
    "### Syntax\n",
    "\n",
    "**Basic example:**   We start with a regular expression that mimics the replace method of strings.\n",
    "Here is a example of using replace to replace all occurrences of abc with *:"
   ]
  },
  {
   "cell_type": "code",
   "execution_count": 4,
   "metadata": {},
   "outputs": [
    {
     "data": {
      "text/plain": [
       "'*def *xyz'"
      ]
     },
     "execution_count": 4,
     "metadata": {},
     "output_type": "execute_result"
    }
   ],
   "source": [
    "word= 'abcdef abcxyz'\n",
    "word.replace('abc', '*')\n"
   ]
  },
  {
   "cell_type": "markdown",
   "metadata": {},
   "source": [
    "Here is the regular expression code that does the same thing:\n"
   ]
  },
  {
   "cell_type": "code",
   "execution_count": 5,
   "metadata": {},
   "outputs": [
    {
     "data": {
      "text/plain": [
       "'*def *xyz'"
      ]
     },
     "execution_count": 5,
     "metadata": {},
     "output_type": "execute_result"
    }
   ],
   "source": [
    "re.sub(r'abc', '*', 'abcdef abcxyz')"
   ]
  },
  {
   "cell_type": "markdown",
   "metadata": {},
   "source": [
    "#### Square brackets \n",
    "\n",
    "We can use square brackets to indicate that we only want to match certain letters.\n",
    "Here is an example where we replace every a and d with asterisks:\n"
   ]
  },
  {
   "cell_type": "code",
   "execution_count": 6,
   "metadata": {},
   "outputs": [
    {
     "data": {
      "text/plain": [
       "'****y'"
      ]
     },
     "execution_count": 6,
     "metadata": {},
     "output_type": "execute_result"
    }
   ],
   "source": [
    "word= \"daddy\"\n",
    "re.sub(r'[ad]', '*', word)"
   ]
  },
  {
   "cell_type": "code",
   "execution_count": 7,
   "metadata": {},
   "outputs": [
    {
     "data": {
      "text/plain": [
       "'10000'"
      ]
     },
     "execution_count": 7,
     "metadata": {},
     "output_type": "execute_result"
    }
   ],
   "source": [
    "re.sub(r'[$,]', \"\",\"$10,000\")"
   ]
  },
  {
   "cell_type": "markdown",
   "metadata": {},
   "source": [
    "Here is another example, where an asterisk replaces all occurrences of an a, b, or c that is followed\n",
    "by a 1, 2, or 3:\n"
   ]
  },
  {
   "cell_type": "code",
   "execution_count": 8,
   "metadata": {},
   "outputs": [
    {
     "data": {
      "text/plain": [
       "'* + * + * + d4 + e5'"
      ]
     },
     "execution_count": 8,
     "metadata": {},
     "output_type": "execute_result"
    }
   ],
   "source": [
    "word= 'a1 + b2 + c3 + d4 + e5'\n",
    "re.sub(r'[abc][123]', '*', word)\n"
   ]
  },
  {
   "cell_type": "markdown",
   "metadata": {},
   "source": [
    "We can give ranges of values—for example, [a-j] for the letters a through j. Here are some\n",
    "further examples of ranges:\n",
    "\n",
    "Range &ensp;&ensp;&ensp;&ensp;&ensp;&ensp;&ensp;&ensp;&ensp;&ensp;&ensp;&ensp;&ensp;Description <br>\n",
    "[A-Z] &ensp;&ensp;&ensp;&ensp;&ensp;&ensp;&ensp;&ensp;&ensp;&ensp;&ensp;&ensp;&ensp;&ensp;any capital letter <br>\n",
    "[0-9] &ensp;&ensp;&ensp;&ensp;&ensp;&ensp;&ensp;&ensp;&ensp;&ensp;&ensp;&ensp;&ensp;&ensp;any digit<br>\n",
    "[A-Za-z0-9] &ensp;&ensp;&ensp;&ensp;&ensp;&ensp;&ensp;&ensp;any letter or digit<br>\n",
    "\n",
    "A slightly shorter way to match any digit is \\d, instead of [0-9]."
   ]
  },
  {
   "cell_type": "code",
   "execution_count": 9,
   "metadata": {},
   "outputs": [
    {
     "data": {
      "text/plain": [
       "'* + * + * + * + *'"
      ]
     },
     "execution_count": 9,
     "metadata": {},
     "output_type": "execute_result"
    }
   ],
   "source": [
    "word= 'a1 + b2 + c3 + d4 + e5'\n",
    "re.sub(r'[a-z][\\d]', '*', word)"
   ]
  },
  {
   "cell_type": "markdown",
   "metadata": {},
   "source": [
    "**Matching any character:** Use a dot to match (almost) any character. Here is an example:"
   ]
  },
  {
   "cell_type": "code",
   "execution_count": 10,
   "metadata": {},
   "outputs": [
    {
     "data": {
      "text/plain": [
       "'* * AxxB *'"
      ]
     },
     "execution_count": 10,
     "metadata": {},
     "output_type": "execute_result"
    }
   ],
   "source": [
    "re.sub(r'A.B', '*', 'A2B AxB AxxB A$B')"
   ]
  },
  {
   "cell_type": "markdown",
   "metadata": {},
   "source": [
    "The pattern matches an $A$ followed by almost any single character followed by a $B$.\n",
    "Exception: The one character not matched by the dot is the newline character. If you need that to\n",
    "be matched, too, put *?s* at the start of your pattern.\n"
   ]
  },
  {
   "cell_type": "markdown",
   "metadata": {},
   "source": [
    "**Matching multiple copies of something**  &ensp; Here is an example where we match an A followed by\n",
    "one or more B’s:"
   ]
  },
  {
   "cell_type": "code",
   "execution_count": 11,
   "metadata": {},
   "outputs": [
    {
     "data": {
      "text/plain": [
       "'*C *C AC'"
      ]
     },
     "execution_count": 11,
     "metadata": {},
     "output_type": "execute_result"
    }
   ],
   "source": [
    "re.sub(r'AB+', '*', 'ABC ABBBBBBC AC')\n"
   ]
  },
  {
   "cell_type": "markdown",
   "metadata": {},
   "source": [
    "We use the + character to indicate that we want to match one or more B’s here. There are similar\n",
    "things we can use to specify different numbers of B’s here. For instance, using * in place of + will\n",
    "match zero or more B’s. (This means that AC in the example above would be replaced by *C because\n",
    "A counts as an A followed by zero B’s.) Here is a table of what you can do:\n",
    "\n",
    "\n",
    "Code &ensp;&ensp;&ensp;&ensp;&ensp;&ensp;&ensp;&ensp;&ensp;&ensp;&ensp;&ensp;&ensp; Description <br>\n",
    "\\+ &ensp;&ensp;&ensp;&ensp;&ensp;&ensp;&ensp;&ensp;&ensp;&ensp;&ensp;&ensp;&ensp;&ensp;&ensp;&ensp;  match 1 or more occurrences <br>\n",
    "\\* &ensp;&ensp;&ensp;&ensp;&ensp;&ensp;&ensp;&ensp;&ensp;&ensp;&ensp;&ensp;&ensp;&ensp;&ensp;&ensp; match 0 or more occurrences <br>\n",
    "? &ensp;&ensp;&ensp;&ensp;&ensp;&ensp;&ensp;&ensp;&ensp;&ensp;&ensp;&ensp;&ensp;&ensp;&ensp;&ensp; match 0 or 1 occurrence <br>\n",
    "{m}&ensp;&ensp;&ensp;&ensp;&ensp;&ensp;&ensp;&ensp;&ensp;&ensp;&ensp;&ensp;&ensp;&ensp;&ensp; match exactly m occurrences <br>\n",
    "{m,n}&ensp;&ensp;&ensp;&ensp;&ensp;&ensp;&ensp;&ensp;&ensp;&ensp;&ensp;&ensp;&ensp; match between m and n occurrences, inclusive <br>"
   ]
  },
  {
   "cell_type": "code",
   "execution_count": 12,
   "metadata": {},
   "outputs": [
    {
     "data": {
      "text/plain": [
       "'*C *C *C'"
      ]
     },
     "execution_count": 12,
     "metadata": {},
     "output_type": "execute_result"
    }
   ],
   "source": [
    "re.sub(r'AB*', '*', 'ABC ABBBBBBC AC')"
   ]
  },
  {
   "cell_type": "code",
   "execution_count": 13,
   "metadata": {},
   "outputs": [
    {
     "data": {
      "text/plain": [
       "'*C *BBBBBC *C'"
      ]
     },
     "execution_count": 13,
     "metadata": {},
     "output_type": "execute_result"
    }
   ],
   "source": [
    "re.sub(r'AB?', '*', 'ABC ABBBBBBC AC')"
   ]
  },
  {
   "cell_type": "code",
   "execution_count": 14,
   "metadata": {},
   "outputs": [
    {
     "data": {
      "text/plain": [
       "'ABC *BBBC AC'"
      ]
     },
     "execution_count": 14,
     "metadata": {},
     "output_type": "execute_result"
    }
   ],
   "source": [
    "re.sub(r'AB{3}', '*', 'ABC ABBBBBBC AC')"
   ]
  },
  {
   "cell_type": "code",
   "execution_count": 15,
   "metadata": {},
   "outputs": [
    {
     "data": {
      "text/plain": [
       "'ABC *C AC'"
      ]
     },
     "execution_count": 15,
     "metadata": {},
     "output_type": "execute_result"
    }
   ],
   "source": [
    "re.sub(r'AB{3,7}', '*', 'ABC ABBBBBBC AC')"
   ]
  },
  {
   "cell_type": "code",
   "execution_count": 16,
   "metadata": {},
   "outputs": [
    {
     "data": {
      "text/plain": [
       "'*B *BB *BBB *BBBBBBBB'"
      ]
     },
     "execution_count": 16,
     "metadata": {},
     "output_type": "execute_result"
    }
   ],
   "source": [
    "re.sub(r'AB{1,3}?', '*', 'ABB ABBB ABBBB ABBBBBBBBB')"
   ]
  },
  {
   "cell_type": "markdown",
   "metadata": {},
   "source": [
    "The $?$ can go after any of the numeric specifiers, like $+?, -?, ??$, etc.\n"
   ]
  },
  {
   "cell_type": "markdown",
   "metadata": {},
   "source": [
    "**The | character** The | character acts as an “or.” Here is an example:"
   ]
  },
  {
   "cell_type": "code",
   "execution_count": 17,
   "metadata": {},
   "outputs": [
    {
     "data": {
      "text/plain": [
       "'*def*123*'"
      ]
     },
     "execution_count": 17,
     "metadata": {},
     "output_type": "execute_result"
    }
   ],
   "source": [
    "re.sub(r'abc|xyz', '*', 'abcdefxyz123abc')"
   ]
  },
  {
   "cell_type": "markdown",
   "metadata": {},
   "source": [
    "**Matching only at the start or end:**  Sometimes you don’t want to match every occurrence of something, maybe just the first or the last occurrence. To match just the first occurrence of something,\n",
    "start the pattern off with the ^ character. To match just the last occurrence, end the pattern with the\n",
    "$ character. Here are some examples:"
   ]
  },
  {
   "cell_type": "code",
   "execution_count": 18,
   "metadata": {},
   "outputs": [
    {
     "data": {
      "text/plain": [
       "'*defgabc'"
      ]
     },
     "execution_count": 18,
     "metadata": {},
     "output_type": "execute_result"
    }
   ],
   "source": [
    "re.sub('^abc', '*', 'abcdefgabc')"
   ]
  },
  {
   "cell_type": "code",
   "execution_count": 19,
   "metadata": {},
   "outputs": [
    {
     "data": {
      "text/plain": [
       "'abcdefg*'"
      ]
     },
     "execution_count": 19,
     "metadata": {},
     "output_type": "execute_result"
    }
   ],
   "source": [
    "re.sub('abc$', '*', 'abcdefgabc')"
   ]
  },
  {
   "cell_type": "code",
   "execution_count": 20,
   "metadata": {},
   "outputs": [
    {
     "data": {
      "text/plain": [
       "'josesholly499'"
      ]
     },
     "execution_count": 20,
     "metadata": {},
     "output_type": "execute_result"
    }
   ],
   "source": [
    "re.sub('@gmail.com$', '', 'josesholly499@gmail.com')"
   ]
  },
  {
   "cell_type": "code",
   "execution_count": 21,
   "metadata": {},
   "outputs": [
    {
     "data": {
      "text/plain": [
       "'08177249078'"
      ]
     },
     "execution_count": 21,
     "metadata": {},
     "output_type": "execute_result"
    }
   ],
   "source": [
    "re.sub('^234', '0', '2348177249078')"
   ]
  },
  {
   "cell_type": "markdown",
   "metadata": {},
   "source": [
    "**Escaping special characters:** We have seen that + and * have special meanings. What if we need\n",
    "to match a plus sign? To do so, use the backslash to escape it, like \\+. Here is an example:\n"
   ]
  },
  {
   "cell_type": "code",
   "execution_count": 22,
   "metadata": {},
   "outputs": [
    {
     "data": {
      "text/plain": [
       "'*C'"
      ]
     },
     "execution_count": 22,
     "metadata": {},
     "output_type": "execute_result"
    }
   ],
   "source": [
    "re.sub(r'AB\\+', '*', 'AB+C')\n"
   ]
  },
  {
   "cell_type": "markdown",
   "metadata": {},
   "source": [
    "#### Backslash sequences"
   ]
  },
  {
   "cell_type": "markdown",
   "metadata": {},
   "source": [
    "- \\d matches any digit, and \\D matches any non-digit. Here is an example:"
   ]
  },
  {
   "cell_type": "code",
   "execution_count": 23,
   "metadata": {},
   "outputs": [
    {
     "data": {
      "text/plain": [
       "'* + ** = **'"
      ]
     },
     "execution_count": 23,
     "metadata": {},
     "output_type": "execute_result"
    }
   ],
   "source": [
    "re.sub(r'\\d', '*', '3 + 14 = 17')\n"
   ]
  },
  {
   "cell_type": "code",
   "execution_count": 24,
   "metadata": {},
   "outputs": [
    {
     "data": {
      "text/plain": [
       "'3***14***17'"
      ]
     },
     "execution_count": 24,
     "metadata": {},
     "output_type": "execute_result"
    }
   ],
   "source": [
    "re.sub(r'\\D', '*', '3 + 14 = 17')"
   ]
  },
  {
   "cell_type": "markdown",
   "metadata": {},
   "source": [
    "- \\w matches any letter or number, and \\W matches anything else. Here is an example:"
   ]
  },
  {
   "cell_type": "code",
   "execution_count": 25,
   "metadata": {},
   "outputs": [
    {
     "data": {
      "text/plain": [
       "'**** ** * ****. ** ** **?'"
      ]
     },
     "execution_count": 25,
     "metadata": {},
     "output_type": "execute_result"
    }
   ],
   "source": [
    "re.sub(r'\\w', '*', 'This is a test. Or is it?')\n"
   ]
  },
  {
   "cell_type": "code",
   "execution_count": 26,
   "metadata": {},
   "outputs": [
    {
     "data": {
      "text/plain": [
       "'This*is*a*test**Or*is*it*'"
      ]
     },
     "execution_count": 26,
     "metadata": {},
     "output_type": "execute_result"
    }
   ],
   "source": [
    "re.sub(r'\\W', '*', 'This is a test. Or is it?')\n"
   ]
  },
  {
   "cell_type": "markdown",
   "metadata": {},
   "source": [
    "-  \\s matches whitespace, and \\S matches non-whitespace. Here is an example"
   ]
  },
  {
   "cell_type": "code",
   "execution_count": 27,
   "metadata": {},
   "outputs": [
    {
     "data": {
      "text/plain": [
       "'This*is*a*test.*Or*is*it?'"
      ]
     },
     "execution_count": 27,
     "metadata": {},
     "output_type": "execute_result"
    }
   ],
   "source": [
    "re.sub(r'\\s', '*', 'This is a test. Or is it?')\n"
   ]
  },
  {
   "cell_type": "code",
   "execution_count": 28,
   "metadata": {},
   "outputs": [
    {
     "data": {
      "text/plain": [
       "'**** ** * ***** ** ** ***'"
      ]
     },
     "execution_count": 28,
     "metadata": {},
     "output_type": "execute_result"
    }
   ],
   "source": [
    "re.sub(r'\\S', '*', 'This is a test. Or is it?')"
   ]
  },
  {
   "cell_type": "markdown",
   "metadata": {},
   "source": [
    "**Preceding and following matches** Sometimes you want to match things if they are preceded or\n",
    "followed by something."
   ]
  },
  {
   "attachments": {
    "ex.jpg": {
     "image/jpeg": "[encoded data removed]"
    }
   },
   "cell_type": "markdown",
   "metadata": {},
   "source": [
    "![ex.jpg](attachment:ex.jpg)\n",
    "\n"
   ]
  },
  {
   "cell_type": "markdown",
   "metadata": {},
   "source": [
    "Here is an example that matched *__the__* word the only if it is followed by cat:"
   ]
  },
  {
   "cell_type": "code",
   "execution_count": 29,
   "metadata": {},
   "outputs": [
    {
     "data": {
      "text/plain": [
       "'the dog and * cat'"
      ]
     },
     "execution_count": 29,
     "metadata": {},
     "output_type": "execute_result"
    }
   ],
   "source": [
    "re.sub(r'the(?= cat)', '*', 'the dog and the cat')\n"
   ]
  },
  {
   "cell_type": "markdown",
   "metadata": {},
   "source": [
    "Here is an example that matches *__the__* word the only if it is preceded by a **is**  :"
   ]
  },
  {
   "cell_type": "code",
   "execution_count": 30,
   "metadata": {},
   "outputs": [
    {
     "data": {
      "text/plain": [
       "'Athens is * capital.'"
      ]
     },
     "execution_count": 30,
     "metadata": {},
     "output_type": "execute_result"
    }
   ],
   "source": [
    "\n",
    "re.sub(r'(?<=is )the', '*', 'Athens is the capital.')\n",
    "# Notice the whhitespace after word \"is\""
   ]
  },
  {
   "cell_type": "markdown",
   "metadata": {},
   "source": [
    "The following example will match the word *__the__* only if it neither preceded by and nor followed by\n",
    "letters, so you can use it to replace occurrences of the word the, but not occurrences of the within\n",
    "other words.\n"
   ]
  },
  {
   "cell_type": "code",
   "execution_count": 31,
   "metadata": {},
   "outputs": [
    {
     "data": {
      "text/plain": [
       "'* cat is on * lathe there.'"
      ]
     },
     "execution_count": 31,
     "metadata": {},
     "output_type": "execute_result"
    }
   ],
   "source": [
    "re.sub(r'(?<!\\w)[Tt]he(?!\\w)', '*', 'The cat is on the lathe there.')\n"
   ]
  },
  {
   "cell_type": "markdown",
   "metadata": {},
   "source": [
    "#### Flags\n",
    " There are a few flags that you can use to affect the behavior of a regular expression. We\n",
    "look at a few of them here.\n"
   ]
  },
  {
   "cell_type": "markdown",
   "metadata": {},
   "source": [
    "-  (?i) — This is to ignore case. Here is an example:"
   ]
  },
  {
   "cell_type": "code",
   "execution_count": 32,
   "metadata": {},
   "outputs": [
    {
     "data": {
      "text/plain": [
       "'* *'"
      ]
     },
     "execution_count": 32,
     "metadata": {},
     "output_type": "execute_result"
    }
   ],
   "source": [
    "re.sub('(?i)ab', '*', 'ab AB')"
   ]
  },
  {
   "cell_type": "markdown",
   "metadata": {},
   "source": [
    "- (?s) — Recall the . character matches any character except a newline. This flag makes it\n",
    "match newline characters, too."
   ]
  },
  {
   "cell_type": "code",
   "execution_count": 33,
   "metadata": {},
   "outputs": [
    {
     "data": {
      "text/plain": [
       "'* AB.'"
      ]
     },
     "execution_count": 33,
     "metadata": {},
     "output_type": "execute_result"
    }
   ],
   "source": [
    "re.sub('(?s)ab', '*', 'ab AB.')"
   ]
  },
  {
   "cell_type": "markdown",
   "metadata": {},
   "source": [
    "- (?x) — Regular expressions can be long and complicated. This flag allows you to use a more\n",
    "verbose, multi-line format, where whitespace is ignored. You can also put comments in. Here\n",
    "is an example:"
   ]
  },
  {
   "cell_type": "code",
   "execution_count": 34,
   "metadata": {},
   "outputs": [
    {
     "name": "stdout",
     "output_type": "stream",
     "text": [
      "* and C1B17\n"
     ]
    }
   ],
   "source": [
    "pattern = r\"\"\"(?x)[AB]\\d+ # Match A or B followed by some digits\n",
    "                [CD]\\d+ # Match C or D followed by some digits \"\"\"\n",
    "print(re.sub(pattern, '*', 'A3C9 and C1B17'))\n"
   ]
  },
  {
   "cell_type": "markdown",
   "metadata": {},
   "source": [
    "# Summary"
   ]
  },
  {
   "attachments": {
    "image.png": {
     "image/png": "[encoded data removed]"
    }
   },
   "cell_type": "markdown",
   "metadata": {},
   "source": [
    "![image.png](attachment:image.png)"
   ]
  },
  {
   "attachments": {
    "image.png": {
     "image/png": "[encoded data removed]"
    }
   },
   "cell_type": "markdown",
   "metadata": {},
   "source": [
    "![image.png](attachment:image.png)"
   ]
  },
  {
   "attachments": {},
   "cell_type": "markdown",
   "metadata": {},
   "source": [
    "**Note** Note that in all of the examples in this chapter, we are dealing with non-overlapping patterns.\n",
    "For instance, if we look for the pattern 'aba' in the string 'abababa', we see there are several\n",
    "overlapping matches. All of our matching is done from the left and does not consider overlaps. For\n",
    "instance, we have the following:"
   ]
  },
  {
   "cell_type": "code",
   "execution_count": 35,
   "metadata": {},
   "outputs": [
    {
     "data": {
      "text/plain": [
       "'*b*'"
      ]
     },
     "execution_count": 35,
     "metadata": {},
     "output_type": "execute_result"
    }
   ],
   "source": [
    "re.sub('aba', '*', 'abababa')\n"
   ]
  },
  {
   "cell_type": "markdown",
   "metadata": {},
   "source": [
    "## Groups"
   ]
  },
  {
   "attachments": {},
   "cell_type": "markdown",
   "metadata": {},
   "source": [
    "Using parentheses around part of an expression creates a group that contains the text that matches a\n",
    "pattern. You can use this to do more sophisticated substitutions. \n",
    "\n",
    "Here is an example that converts\n",
    "to lowercase every capital letter that is followed by a lowercase letter:"
   ]
  },
  {
   "cell_type": "code",
   "execution_count": 36,
   "metadata": {},
   "outputs": [
    {
     "data": {
      "text/plain": [
       "'PEACH apple apricot'"
      ]
     },
     "execution_count": 36,
     "metadata": {},
     "output_type": "execute_result"
    }
   ],
   "source": [
    "def modify(match):\n",
    "    letter = match.group()\n",
    "    return letter.lower()\n",
    "re.sub(r'([A-Z])[a-z]', modify, 'PEACH Apple ApriCot')\n"
   ]
  },
  {
   "attachments": {},
   "cell_type": "markdown",
   "metadata": {},
   "source": [
    "The *modify* function ends up getting called three times, one for each time a match occurs. The\n",
    "re.sub function automatically sends to the *modify* function a Match object, which we name\n",
    "match. This object contains information about the matching text. The object’s group method\n",
    "returns the matching text itself.\n",
    "\n",
    "If instead of match.group, we use match.groups, then we can further break down the match\n",
    "according the groups defined by the parentheses. Here is an example that matches a capital letter\n",
    "followed by a digit and converts each letter to lowercase and adds 10 to each number:"
   ]
  },
  {
   "cell_type": "code",
   "execution_count": 37,
   "metadata": {},
   "outputs": [
    {
     "data": {
      "text/plain": [
       "'a11 + b12 + c17'"
      ]
     },
     "execution_count": 37,
     "metadata": {},
     "output_type": "execute_result"
    }
   ],
   "source": [
    "def modify(match):\n",
    "    letter, number = match.groups()\n",
    "    return letter.lower() + str(int(number)+10)\n",
    "re.sub(r'([A-Z])(\\d)', modify, 'A1 + B2 + C7')"
   ]
  },
  {
   "attachments": {},
   "cell_type": "markdown",
   "metadata": {},
   "source": [
    "The groups method returns the matching text as tuples. For instance, in the above program the\n",
    "tuples returned are shown below:\n",
    "\n",
    "*First match: ('A', '1') <br>\n",
    "Second match: ('B', '2') <br>\n",
    "Third match: ('C', '7')*\n",
    "\n",
    "**Note** also that we can get at this information by passing arguments to match.group. For the first\n",
    "match, match.group(1) is 'A' and match.group(2) is 1.\n"
   ]
  },
  {
   "attachments": {},
   "cell_type": "markdown",
   "metadata": {},
   "source": [
    "## Other functions"
   ]
  },
  {
   "attachments": {},
   "cell_type": "markdown",
   "metadata": {},
   "source": [
    "- sub — We have seen many examples of sub. One thing we haven’t mentioned is that there\n",
    "is an optional argument count, which specifies how many matches (from the left) to make.\n",
    "Here is an example:"
   ]
  },
  {
   "cell_type": "code",
   "execution_count": 38,
   "metadata": {},
   "outputs": [
    {
     "data": {
      "text/plain": [
       "'*b*bababa'"
      ]
     },
     "execution_count": 38,
     "metadata": {},
     "output_type": "execute_result"
    }
   ],
   "source": [
    "re.sub(r'a', '*', 'ababababa', count=2)\n"
   ]
  },
  {
   "attachments": {},
   "cell_type": "markdown",
   "metadata": {},
   "source": [
    "• findall — The findall function returns a list of all the matches found. Here is an example:"
   ]
  },
  {
   "cell_type": "code",
   "execution_count": 39,
   "metadata": {},
   "outputs": [
    {
     "data": {
      "text/plain": [
       "['A3', 'B2', 'A9']"
      ]
     },
     "execution_count": 39,
     "metadata": {},
     "output_type": "execute_result"
    }
   ],
   "source": [
    "re.findall(r'[AB]\\d', 'A3 + B2 + A9')\n"
   ]
  },
  {
   "cell_type": "code",
   "execution_count": 40,
   "metadata": {},
   "outputs": [
    {
     "data": {
      "text/plain": [
       "['This',\n",
       " 'is',\n",
       " 'a',\n",
       " 'raw',\n",
       " 'string',\n",
       " 'Backslashes',\n",
       " 'do',\n",
       " 'not',\n",
       " 'do',\n",
       " 'anything',\n",
       " 'special']"
      ]
     },
     "execution_count": 40,
     "metadata": {},
     "output_type": "execute_result"
    }
   ],
   "source": [
    "re.findall(r'\\w+', s)\n"
   ]
  },
  {
   "cell_type": "markdown",
   "metadata": {},
   "source": [
    "• split — The split function is analogous to the string method split. The regular expression version allows us to split on something more general than the string method does. Here\n",
    "is an example that splits an algebraic expression at + or -."
   ]
  },
  {
   "cell_type": "code",
   "execution_count": 41,
   "metadata": {},
   "outputs": [
    {
     "data": {
      "text/plain": [
       "['3x', '4y', '12x^2', '7']"
      ]
     },
     "execution_count": 41,
     "metadata": {},
     "output_type": "execute_result"
    }
   ],
   "source": [
    "re.split(r'\\+|\\-', '3x+4y-12x^2+7')"
   ]
  },
  {
   "cell_type": "markdown",
   "metadata": {},
   "source": [
    "• match and search — These are useful if you just want to know if a match occurs. The\n",
    "difference between these two functions is match only checks to see if the beginning of the\n",
    "string matches the pattern, while search searches through the string until it finds a match.\n",
    "Both return None if they fail to find a match and a Match object if they do find a match. Here\n",
    "are examples:\n"
   ]
  },
  {
   "cell_type": "code",
   "execution_count": 42,
   "metadata": {},
   "outputs": [
    {
     "name": "stdout",
     "output_type": "stream",
     "text": [
      "No match at beginning\n",
      "Match found in string.\n"
     ]
    }
   ],
   "source": [
    "if (re.match(r'ZZZ', 'abc ZZZ xyz')): print('Match found at beginning.')\n",
    "else: print('No match at beginning')\n",
    "if (re.search(r'ZZZ', 'abc ZZZ xyz')): print('Match found in string.')\n",
    "else: print('No match found.')\n"
   ]
  },
  {
   "cell_type": "markdown",
   "metadata": {},
   "source": [
    "The Match object returned by these functions has group information in it. Say we have the\n",
    "following:"
   ]
  },
  {
   "cell_type": "code",
   "execution_count": 43,
   "metadata": {},
   "outputs": [
    {
     "data": {
      "text/plain": [
       "'A3'"
      ]
     },
     "execution_count": 43,
     "metadata": {},
     "output_type": "execute_result"
    }
   ],
   "source": [
    "a=re.search(r'([ABC])(\\d)', '= A3+B2+C8')\n",
    "a.group()\n"
   ]
  },
  {
   "cell_type": "code",
   "execution_count": 44,
   "metadata": {},
   "outputs": [
    {
     "data": {
      "text/plain": [
       "'A'"
      ]
     },
     "execution_count": 44,
     "metadata": {},
     "output_type": "execute_result"
    }
   ],
   "source": [
    "a.group(1)\n"
   ]
  },
  {
   "cell_type": "code",
   "execution_count": 45,
   "metadata": {},
   "outputs": [
    {
     "data": {
      "text/plain": [
       "'3'"
      ]
     },
     "execution_count": 45,
     "metadata": {},
     "output_type": "execute_result"
    }
   ],
   "source": [
    "a.group(2)"
   ]
  },
  {
   "attachments": {},
   "cell_type": "markdown",
   "metadata": {},
   "source": [
    "Remember that re.search will only report on the first match it finds in the string."
   ]
  },
  {
   "cell_type": "markdown",
   "metadata": {},
   "source": [
    "• finditer — This returns an iterator of Match objects that we can loop through, like below:"
   ]
  },
  {
   "cell_type": "code",
   "execution_count": 46,
   "metadata": {},
   "outputs": [
    {
     "name": "stdout",
     "output_type": "stream",
     "text": [
      "A 3\n",
      "B 4\n"
     ]
    }
   ],
   "source": [
    "for s in re.finditer(r'([AB])(\\d)', 'A3+B4'):\n",
    "    print(s.group(1), s.group(2))\n"
   ]
  },
  {
   "attachments": {},
   "cell_type": "markdown",
   "metadata": {},
   "source": [
    "• compile — If you are going to be reusing the same pattern, you can save a little time by first\n",
    "compiling the pattern, as shown below:\n"
   ]
  },
  {
   "cell_type": "code",
   "execution_count": 47,
   "metadata": {},
   "outputs": [
    {
     "data": {
      "text/plain": [
       "'* + *'"
      ]
     },
     "execution_count": 47,
     "metadata": {},
     "output_type": "execute_result"
    }
   ],
   "source": [
    "pattern = re.compile(r'[AB]\\d')\n",
    "pattern.sub('*', 'A3 + B4')\n"
   ]
  },
  {
   "cell_type": "code",
   "execution_count": 48,
   "metadata": {},
   "outputs": [
    {
     "data": {
      "text/plain": [
       "'x + x'"
      ]
     },
     "execution_count": 48,
     "metadata": {},
     "output_type": "execute_result"
    }
   ],
   "source": [
    "pattern.sub('x', 'A8 + B9')"
   ]
  },
  {
   "cell_type": "code",
   "execution_count": 49,
   "metadata": {},
   "outputs": [
    {
     "data": {
      "text/plain": [
       "['B4']"
      ]
     },
     "execution_count": 49,
     "metadata": {},
     "output_type": "execute_result"
    }
   ],
   "source": [
    "pattern = re.compile(r'[AB]\\d')\n",
    "pattern.findall('A3+B4+C9+D8',2,6)\n"
   ]
  },
  {
   "cell_type": "markdown",
   "metadata": {},
   "source": [
    "# Roman Numerals"
   ]
  },
  {
   "cell_type": "code",
   "execution_count": 50,
   "metadata": {},
   "outputs": [
    {
     "name": "stdout",
     "output_type": "stream",
     "text": [
      "1900\n"
     ]
    }
   ],
   "source": [
    "import re\n",
    "d = {'M':1000, 'CM':900, 'D':500, 'CD':400, 'C':100, 'XC':90,\n",
    "'L':50, 'XL':40, 'X':10, 'IX':9, 'V':5, 'IV':4,'I':1}\n",
    "pattern = re.compile(r\"\"\"(?x)\n",
    "                    (M{0,3})(CM)?\n",
    "                    (CD)?(D)?(C{0,3})\n",
    "                    (XC)?(XL)?(L)?(X{0,3})\n",
    "                    (IX)?(IV)?(V)?(I{0,3})\"\"\")\n",
    "num = input('Enter Roman numeral: ').upper()\n",
    "m = pattern.match(num)\n",
    "sum = 0\n",
    "for x in m.groups():\n",
    "    if x!=None and x!='':\n",
    "        if x in ['CM', 'CD', 'XC', 'XL', 'IX', 'IV']:\n",
    "            sum+=d[x]\n",
    "        elif x[0] in 'MDCLXVI':\n",
    "            sum+=d[x[0]]*len(x)\n",
    "print(sum)"
   ]
  },
  {
   "attachments": {},
   "cell_type": "markdown",
   "metadata": {},
   "source": [
    "**Dates** Here we use a regular expression to take a date in a verbose format, like February 6, 2011,\n",
    "and convert it an abbreviated format, mm/dd/yy (with no leading zeroes). Rather than depend\n",
    "on the user to enter the date in exactly the right way, we can use a regular expression to allow for\n",
    "variation and mistakes. For instance, this program will work whether the user spells out the whole\n",
    "month name or abbreviates it (with or with a period). Capitalization does not matter, and it also\n",
    "does not matter if they can even spell the month name correctly. They just have to get the first three\n",
    "letters correct. It also does not matter how much space they use and whether or not they use a\n",
    "comma after the day."
   ]
  },
  {
   "cell_type": "code",
   "execution_count": 51,
   "metadata": {},
   "outputs": [
    {
     "name": "stdout",
     "output_type": "stream",
     "text": [
      "2/22/21\n"
     ]
    }
   ],
   "source": [
    "import re\n",
    "\n",
    "d = {'jan':'1', 'feb':'2', 'mar':'3', 'apr':'4',\n",
    "'may':'5', 'jun':'6', 'jul':'7', 'aug':'8',\n",
    "'sep':'9', 'oct':'10', 'nov':'11', 'dec':'12'}\n",
    "\n",
    "date = input('Enter date: ')\n",
    "\n",
    "m = re.match('([A-Za-z]+)\\.?\\s*(\\d{1,2}),?\\s*(\\d{4})', date)\n",
    "\n",
    "print('{}/{}/{}'.format(d[m.group(1).lower()[:3]],\n",
    "m.group(2), m.group(3)[-2:]))"
   ]
  },
  {
   "cell_type": "code",
   "execution_count": 52,
   "metadata": {},
   "outputs": [
    {
     "data": {
      "text/plain": [
       "['12', '2', '2021']"
      ]
     },
     "execution_count": 52,
     "metadata": {},
     "output_type": "execute_result"
    }
   ],
   "source": [
    "date= \"12/2/2021\"\n",
    "\n",
    "date.split(\"/\")"
   ]
  },
  {
   "cell_type": "markdown",
   "metadata": {},
   "source": []
  }
 ],
 "metadata": {
  "kernelspec": {
   "display_name": "Python 3",
   "language": "python",
   "name": "python3"
  },
  "language_info": {
   "codemirror_mode": {
    "name": "ipython",
    "version": 3
   },
   "file_extension": ".py",
   "mimetype": "text/x-python",
   "name": "python",
   "nbconvert_exporter": "python",
   "pygments_lexer": "ipython3",
   "version": "3.9.7 (tags/v3.9.7:1016ef3, Aug 30 2021, 20:19:38) [MSC v.1929 64 bit (AMD64)]"
  },
  "vscode": {
   "interpreter": {
    "hash": "81794d4967e6c3204c66dcd87b604927b115b27c00565d3d43f05ba2f3a2cb0d"
   }
  }
 },
 "nbformat": 4,
 "nbformat_minor": 2
}
